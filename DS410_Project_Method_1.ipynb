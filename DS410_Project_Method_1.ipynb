{
 "cells": [
  {
   "cell_type": "markdown",
   "id": "df9bca19-304d-477f-a2fd-c889f39b9a1c",
   "metadata": {
    "executionInfo": {
     "elapsed": 563,
     "status": "ok",
     "timestamp": 1712785294190,
     "user": {
      "displayName": "Natalie Chow",
      "userId": "09441291420282620726"
     },
     "user_tz": 240
    },
    "id": "ce1e4fac-65a3-4448-a81e-92e7651486e5"
   },
   "source": [
    "# Data Preprocessing"
   ]
  },
  {
   "cell_type": "code",
   "execution_count": 1,
   "id": "4ab2726d-608a-485e-bb0f-c3a062129c88",
   "metadata": {},
   "outputs": [],
   "source": [
    "import pyspark\n",
    "import pandas as pd\n",
    "import numpy as np\n",
    "import math"
   ]
  },
  {
   "cell_type": "code",
   "execution_count": 2,
   "id": "3037dc8a-11e2-48f4-b0e5-3e9e3a160c01",
   "metadata": {
    "id": "3037dc8a-11e2-48f4-b0e5-3e9e3a160c01"
   },
   "outputs": [],
   "source": [
    "from pyspark import SparkContext\n",
    "from pyspark.sql import SparkSession\n",
    "from pyspark.sql.types import StructField, StructType, StringType, LongType, IntegerType, FloatType\n",
    "from pyspark.sql.functions import col, column, when, avg, mean\n",
    "from pyspark.sql.functions import expr\n",
    "from pyspark.sql.functions import split\n",
    "from pyspark.sql.functions import array_contains, array_position\n",
    "from pyspark.sql.functions import collect_list\n",
    "from pyspark.sql import Row\n",
    "from pyspark.ml.regression import LinearRegression\n",
    "from pyspark.ml.feature import VectorAssembler, StandardScaler\n",
    "from pyspark.ml.evaluation import RegressionEvaluator\n",
    "from pyspark.ml.tuning import CrossValidator, ParamGridBuilder\n",
    "from pyspark.ml.regression import DecisionTreeRegressor"
   ]
  },
  {
   "cell_type": "code",
   "execution_count": 3,
   "id": "84f84981-7b1e-44c8-87e4-75a0a015fb5e",
   "metadata": {
    "id": "84f84981-7b1e-44c8-87e4-75a0a015fb5e"
   },
   "outputs": [],
   "source": [
    "ss=SparkSession.builder.appName(\"DS410 Project\").getOrCreate()"
   ]
  },
  {
   "cell_type": "code",
   "execution_count": 4,
   "id": "71d8b9ec-a664-4758-ad88-7e0835d7f3eb",
   "metadata": {
    "id": "71d8b9ec-a664-4758-ad88-7e0835d7f3eb"
   },
   "outputs": [],
   "source": [
    "ss.sparkContext.setCheckpointDir(\"~/scratch\")"
   ]
  },
  {
   "cell_type": "code",
   "execution_count": 5,
   "id": "ca03947e-8a19-404c-bff0-834c77652d80",
   "metadata": {
    "colab": {
     "base_uri": "https://localhost:8080/"
    },
    "executionInfo": {
     "elapsed": 2402,
     "status": "ok",
     "timestamp": 1712785403938,
     "user": {
      "displayName": "Natalie Chow",
      "userId": "09441291420282620726"
     },
     "user_tz": 240
    },
    "id": "ca03947e-8a19-404c-bff0-834c77652d80",
    "outputId": "d7348579-7f67-4bbf-d54d-87d79aed2286"
   },
   "outputs": [],
   "source": [
    "df = ss.read.csv(\"/storage/home/tah5808/DS410 Project/water_quality_small.csv\", header = True, inferSchema = True) # Make sure to use the small dataset"
   ]
  },
  {
   "cell_type": "code",
   "execution_count": 6,
   "id": "f37073dd-f21e-4f7b-89b1-b265253b08ad",
   "metadata": {
    "colab": {
     "base_uri": "https://localhost:8080/",
     "height": 761
    },
    "executionInfo": {
     "elapsed": 164,
     "status": "ok",
     "timestamp": 1712785411347,
     "user": {
      "displayName": "Natalie Chow",
      "userId": "09441291420282620726"
     },
     "user_tz": 240
    },
    "id": "f37073dd-f21e-4f7b-89b1-b265253b08ad",
    "outputId": "26fbe79b-3ba2-4daa-c541-a77d0d3d870f",
    "tags": []
   },
   "outputs": [],
   "source": [
    "#df.printSchema()"
   ]
  },
  {
   "cell_type": "code",
   "execution_count": 7,
   "id": "39868a5f-7f6b-4439-ad3d-5261f4250ef3",
   "metadata": {
    "colab": {
     "base_uri": "https://localhost:8080/",
     "height": 250
    },
    "executionInfo": {
     "elapsed": 168,
     "status": "error",
     "timestamp": 1712785419001,
     "user": {
      "displayName": "Natalie Chow",
      "userId": "09441291420282620726"
     },
     "user_tz": 240
    },
    "id": "39868a5f-7f6b-4439-ad3d-5261f4250ef3",
    "outputId": "6d0c510f-f188-47af-adc0-e0bc43f3f4d5"
   },
   "outputs": [],
   "source": [
    "df2 = df.select(\"ActivityStartDate\", \"MonitoringLocationIdentifier\", \"CharacteristicName\", \"ResultMeasureValue\", \"HydrologicEvent\", \"ResultMeasureUnits\")"
   ]
  },
  {
   "cell_type": "code",
   "execution_count": 8,
   "id": "524b6afd-5b5b-47bb-960e-b6fa6df2c764",
   "metadata": {
    "id": "524b6afd-5b5b-47bb-960e-b6fa6df2c764",
    "outputId": "0c514669-c018-40ba-e2c3-ac5fb709a688"
   },
   "outputs": [],
   "source": [
    "#df2.printSchema()"
   ]
  },
  {
   "cell_type": "code",
   "execution_count": 9,
   "id": "75309b3a-8533-45e8-9241-ada896e4e3e6",
   "metadata": {
    "id": "75309b3a-8533-45e8-9241-ada896e4e3e6",
    "outputId": "91b04dbb-4cb6-45fd-898c-2913bbe5a3b3"
   },
   "outputs": [],
   "source": [
    "#df2.show(5)"
   ]
  },
  {
   "cell_type": "code",
   "execution_count": 10,
   "id": "63491d02-98a9-48a8-84f6-f6b1946a9a89",
   "metadata": {
    "id": "63491d02-98a9-48a8-84f6-f6b1946a9a89"
   },
   "outputs": [],
   "source": [
    "df3 = df2.filter(col(\"ActivityStartDate\").isNotNull())\n",
    "df4 = df3.filter(col(\"MonitoringLocationIdentifier\").isNotNull())"
   ]
  },
  {
   "cell_type": "code",
   "execution_count": 11,
   "id": "864d6267-aebd-4fa2-a9e7-986038473d55",
   "metadata": {
    "id": "864d6267-aebd-4fa2-a9e7-986038473d55",
    "outputId": "d69f7408-f9ed-4a59-ada0-bfec118707e8"
   },
   "outputs": [],
   "source": [
    "#df4.filter(col(\"CharacteristicName\") == \"Temperature, water\").select(\"ResultMeasureUnits\").summary().show()"
   ]
  },
  {
   "cell_type": "code",
   "execution_count": 12,
   "id": "87d8c20b-77dc-4541-8be1-cd31540b1a26",
   "metadata": {
    "id": "87d8c20b-77dc-4541-8be1-cd31540b1a26",
    "outputId": "2b87f060-f3fd-4f7b-ea56-38cb6cd1c3a9"
   },
   "outputs": [],
   "source": [
    "#df4.filter(col(\"CharacteristicName\") == \"Temperature, water\").groupBy(\"ResultMeasureUnits\").count().show()"
   ]
  },
  {
   "cell_type": "code",
   "execution_count": 13,
   "id": "f206b9ad-9655-4a59-9248-178c80446a90",
   "metadata": {
    "id": "f206b9ad-9655-4a59-9248-178c80446a90",
    "outputId": "ad999ae9-0cd8-42ab-fdde-84c253e0bf4a"
   },
   "outputs": [],
   "source": [
    "#df4.filter(col(\"CharacteristicName\") == \"Oxygen\").groupBy(\"ResultMeasureUnits\").count().show()\n",
    "#df4.filter(col(\"CharacteristicName\") == \"Oxygen\").filter(col(\"ResultMeasureUnits\") == \"mg/l\").select(\"ResultMeasureValue\").summary().show()\n",
    "#df4.filter(col(\"CharacteristicName\") == \"Oxygen\").filter(col(\"ResultMeasureUnits\") == \"% saturatn\").select(\"ResultMeasureValue\").summary().show()"
   ]
  },
  {
   "cell_type": "code",
   "execution_count": 14,
   "id": "589fe2d4-3de6-4146-8533-f67cac608c8e",
   "metadata": {
    "id": "589fe2d4-3de6-4146-8533-f67cac608c8e",
    "outputId": "5e2789ae-be1a-4510-97e6-9cd64064f49a"
   },
   "outputs": [],
   "source": [
    "#df4.filter(col(\"CharacteristicName\") == \"Specific conductance\").groupBy(\"ResultMeasureUnits\").count().show()"
   ]
  },
  {
   "cell_type": "code",
   "execution_count": 15,
   "id": "557d59a2-b7f9-4b36-aa09-c72e15d4541d",
   "metadata": {
    "id": "557d59a2-b7f9-4b36-aa09-c72e15d4541d",
    "outputId": "d9078982-f400-4076-fd3a-f0c4cc1dc4df"
   },
   "outputs": [],
   "source": [
    "#df4.filter(col(\"CharacteristicName\") == \"pH\").groupBy(\"ResultMeasureUnits\").count().show()\n",
    "#df4.filter(col(\"CharacteristicName\") == \"pH\").filter(col(\"ResultMeasureUnits\") == \"None\").select(\"ResultMeasureValue\").summary().show()\n",
    "#df4.filter(col(\"CharacteristicName\") == \"pH\").filter(col(\"ResultMeasureUnits\") == \"std units\").select(\"ResultMeasureValue\").summary().show()"
   ]
  },
  {
   "cell_type": "code",
   "execution_count": 16,
   "id": "95f27d82-99da-4e2c-b969-604500c56c0a",
   "metadata": {
    "id": "95f27d82-99da-4e2c-b969-604500c56c0a"
   },
   "outputs": [],
   "source": [
    "#temp = df4.filter(col(\"CharacteristicName\") == \"pH\")\n",
    "#temp = df4.filter(col(\"ResultMeasureUnits\") == \"std units\")"
   ]
  },
  {
   "cell_type": "code",
   "execution_count": 17,
   "id": "a79b65c5-6c26-4c78-befa-70b6a3fde3d7",
   "metadata": {
    "id": "a79b65c5-6c26-4c78-befa-70b6a3fde3d7"
   },
   "outputs": [],
   "source": [
    "#temp = temp.withColumn(\"pH\", temp[\"ResultMeasureValue\"].cast(FloatType())).select(\"pH\")"
   ]
  },
  {
   "cell_type": "code",
   "execution_count": 18,
   "id": "507bd257-7028-47ae-900b-cf82043fcf31",
   "metadata": {
    "id": "507bd257-7028-47ae-900b-cf82043fcf31",
    "outputId": "a5e04e84-d7a5-478d-99f7-17ca2ea9923c"
   },
   "outputs": [],
   "source": [
    "#temp.summary().show()"
   ]
  },
  {
   "cell_type": "code",
   "execution_count": 19,
   "id": "d531d82c-77d6-4bef-b8ea-3b98fcf53095",
   "metadata": {
    "id": "d531d82c-77d6-4bef-b8ea-3b98fcf53095"
   },
   "outputs": [],
   "source": [
    "df4 = df4.filter((col(\"HydrologicEvent\") == \"Storm\") | (col(\"HydrologicEvent\") == \"Routine sample\"))"
   ]
  },
  {
   "cell_type": "code",
   "execution_count": 20,
   "id": "ae296730-ec47-4c91-a27d-0e6e2363311c",
   "metadata": {
    "id": "ae296730-ec47-4c91-a27d-0e6e2363311c"
   },
   "outputs": [],
   "source": [
    "df4 = df4.filter((col(\"ResultMeasureUnits\") == \"std units\") |\\\n",
    "                (col(\"ResultMeasureUnits\") == \"deg C\") |\\\n",
    "                (col(\"ResultMeasureUnits\") == \"mg/l\") |\\\n",
    "                (col(\"ResultMeasureUnits\") == \"uS/cm @25C\"))"
   ]
  },
  {
   "cell_type": "code",
   "execution_count": 21,
   "id": "6b0194c3-bb7f-4694-a75b-ab342ed8f9b6",
   "metadata": {
    "id": "6b0194c3-bb7f-4694-a75b-ab342ed8f9b6"
   },
   "outputs": [],
   "source": [
    "df_characteristic = df4.groupBy(\"ActivityStartDate\", \"MonitoringLocationIdentifier\").agg(collect_list(\"CharacteristicName\"))"
   ]
  },
  {
   "cell_type": "code",
   "execution_count": 22,
   "id": "191173f0-faae-46e7-bd9a-209a032fe8d7",
   "metadata": {
    "id": "191173f0-faae-46e7-bd9a-209a032fe8d7"
   },
   "outputs": [],
   "source": [
    "df_value = df4.groupBy(\"ActivityStartDate\", \"MonitoringLocationIdentifier\").agg(collect_list(\"ResultMeasureValue\"))"
   ]
  },
  {
   "cell_type": "code",
   "execution_count": 23,
   "id": "59b65159-9fa2-4baf-a0d0-b333847d2eda",
   "metadata": {
    "id": "59b65159-9fa2-4baf-a0d0-b333847d2eda"
   },
   "outputs": [],
   "source": [
    "df_hydro_event = df4.groupBy(\"ActivityStartDate\", \"MonitoringLocationIdentifier\").agg(collect_list(\"HydrologicEvent\"))"
   ]
  },
  {
   "cell_type": "code",
   "execution_count": 24,
   "id": "7ef2620b-a62d-4098-9483-01c7c52724de",
   "metadata": {
    "id": "7ef2620b-a62d-4098-9483-01c7c52724de"
   },
   "outputs": [],
   "source": [
    "df5 = df_characteristic.join(df_value, [\"ActivityStartDate\", \"MonitoringLocationIdentifier\"])\\\n",
    ".join(df_hydro_event, [\"ActivityStartDate\", \"MonitoringLocationIdentifier\"])"
   ]
  },
  {
   "cell_type": "code",
   "execution_count": 25,
   "id": "2be0304f-726d-4e79-ad9e-e06556e65a20",
   "metadata": {
    "id": "2be0304f-726d-4e79-ad9e-e06556e65a20",
    "tags": []
   },
   "outputs": [],
   "source": [
    "#df5.show()"
   ]
  },
  {
   "cell_type": "code",
   "execution_count": 26,
   "id": "9c04d207-191e-4900-9273-05a1d06a0628",
   "metadata": {
    "id": "9c04d207-191e-4900-9273-05a1d06a0628"
   },
   "outputs": [],
   "source": [
    "features = [\"Temperature, water\", \"Specific conductance\", \"pH\", \"Oxygen\", \"HydrologicEvent\", \"ResultMeasure/MeasureUnitCode\"]"
   ]
  },
  {
   "cell_type": "code",
   "execution_count": 27,
   "id": "569811a0-cf67-4f8b-abb5-27c63b9fb190",
   "metadata": {
    "id": "569811a0-cf67-4f8b-abb5-27c63b9fb190"
   },
   "outputs": [],
   "source": [
    "df6 = df5.withColumn(features[0],\\\n",
    "                     when(array_position(\"collect_list(CharacteristicName)\", features[0]) != 0,\\\n",
    "                         col(\"collect_list(ResultMeasureValue)\")[array_position(\"collect_list(CharacteristicName)\", features[0]) - 1]\n",
    "                         ))"
   ]
  },
  {
   "cell_type": "code",
   "execution_count": 28,
   "id": "88017d91-74da-48f8-a226-83b8454e03d4",
   "metadata": {
    "id": "88017d91-74da-48f8-a226-83b8454e03d4"
   },
   "outputs": [],
   "source": [
    "df7 = df6.withColumn(features[1],\\\n",
    "                     when(array_position(\"collect_list(CharacteristicName)\", features[1]) != 0,\\\n",
    "                         col(\"collect_list(ResultMeasureValue)\")[array_position(\"collect_list(CharacteristicName)\", features[1]) - 1]\n",
    "                         ))"
   ]
  },
  {
   "cell_type": "code",
   "execution_count": 29,
   "id": "71afec95-dfdf-40e4-8fef-f92c9faec23b",
   "metadata": {
    "id": "71afec95-dfdf-40e4-8fef-f92c9faec23b"
   },
   "outputs": [],
   "source": [
    "df8 = df7.withColumn(features[2],\\\n",
    "                     when(array_position(\"collect_list(CharacteristicName)\", features[2]) != 0,\\\n",
    "                         col(\"collect_list(ResultMeasureValue)\")[array_position(\"collect_list(CharacteristicName)\", features[2]) - 1]\n",
    "                         ))"
   ]
  },
  {
   "cell_type": "code",
   "execution_count": 30,
   "id": "791e16c2-1671-413a-aeb5-514ea851ec2c",
   "metadata": {
    "id": "791e16c2-1671-413a-aeb5-514ea851ec2c"
   },
   "outputs": [],
   "source": [
    "df9 = df8.withColumn(features[3],\\\n",
    "                     when(array_position(\"collect_list(CharacteristicName)\", features[3]) != 0,\\\n",
    "                         col(\"collect_list(ResultMeasureValue)\")[array_position(\"collect_list(CharacteristicName)\", features[3]) - 1]\n",
    "                         ))"
   ]
  },
  {
   "cell_type": "code",
   "execution_count": 31,
   "id": "6f7ca45a-fcbb-4bb1-9f7f-ade5c0367e0f",
   "metadata": {
    "id": "6f7ca45a-fcbb-4bb1-9f7f-ade5c0367e0f"
   },
   "outputs": [],
   "source": [
    "df10 = df9.withColumn(features[4],\\\n",
    "                     when(array_position(\"collect_list(HydrologicEvent)\", \"Storm\") != 0, 1).otherwise(0))"
   ]
  },
  {
   "cell_type": "code",
   "execution_count": 32,
   "id": "38079ca3-5640-4adf-b844-1d80a0b146ce",
   "metadata": {
    "id": "38079ca3-5640-4adf-b844-1d80a0b146ce"
   },
   "outputs": [],
   "source": [
    "#df10.show(5)"
   ]
  },
  {
   "cell_type": "code",
   "execution_count": 33,
   "id": "06d60472-d731-435d-8a21-ac4b5b3cbaa2",
   "metadata": {
    "id": "06d60472-d731-435d-8a21-ac4b5b3cbaa2"
   },
   "outputs": [],
   "source": [
    "#df10.columns"
   ]
  },
  {
   "cell_type": "code",
   "execution_count": 34,
   "id": "15858587-1a4f-418a-80c6-1dd7aa520078",
   "metadata": {
    "id": "15858587-1a4f-418a-80c6-1dd7aa520078"
   },
   "outputs": [],
   "source": [
    "#df10.filter(col(\"pH\") > 14).select(\"pH\").show()"
   ]
  },
  {
   "cell_type": "code",
   "execution_count": 35,
   "id": "4c2f2e0f-d65d-4c63-9dbc-02034ddde43d",
   "metadata": {
    "id": "4c2f2e0f-d65d-4c63-9dbc-02034ddde43d"
   },
   "outputs": [],
   "source": [
    "# # Convert from string to float\n",
    "df11 = df10.withColumn(\"Temperature, water\", df10[\"Temperature, water\"].cast(FloatType()))\n",
    "df12 = df11.withColumn(\"Specific conductance\", df11[\"Specific conductance\"].cast(FloatType()))\n",
    "df13 = df12.withColumn(\"pH\", df12[\"pH\"].cast(FloatType()))\n",
    "df14 = df13.withColumn(\"Oxygen\", df13[\"Oxygen\"].cast(FloatType()))\n",
    "df15 = df14.withColumn(\"HydrologicEvent\", df14[\"HydrologicEvent\"].cast(FloatType()))"
   ]
  },
  {
   "cell_type": "code",
   "execution_count": 36,
   "id": "817c8300-dcb8-4b63-8886-64e20901f0ae",
   "metadata": {
    "id": "817c8300-dcb8-4b63-8886-64e20901f0ae"
   },
   "outputs": [],
   "source": [
    "#df15.show()"
   ]
  },
  {
   "cell_type": "code",
   "execution_count": 37,
   "id": "77423d73-17d3-4862-9530-ba7fda6704e7",
   "metadata": {},
   "outputs": [],
   "source": [
    "#df15.filter(col(\"pH\").isNull()).count()"
   ]
  },
  {
   "cell_type": "code",
   "execution_count": 38,
   "id": "b8e46842-c00a-4e9d-8dbf-1538d39f696a",
   "metadata": {},
   "outputs": [],
   "source": [
    "df16 = df15.filter(col(\"pH\").isNotNull())"
   ]
  },
  {
   "cell_type": "code",
   "execution_count": 39,
   "id": "6a9a4129-5bee-4e09-9bef-76572a7025fa",
   "metadata": {},
   "outputs": [],
   "source": [
    "df17 = df16.select(\"Temperature, water\", \"Specific conductance\", \"Oxygen\", \"HydrologicEvent\", \"pH\")"
   ]
  },
  {
   "cell_type": "code",
   "execution_count": 40,
   "id": "1490974c-9c34-466a-9bd4-8a032adf877a",
   "metadata": {
    "id": "1490974c-9c34-466a-9bd4-8a032adf877a"
   },
   "outputs": [],
   "source": [
    "#df17.printSchema()"
   ]
  },
  {
   "cell_type": "code",
   "execution_count": 41,
   "id": "5a33d265-5c5e-481b-9d40-be0b888dae1f",
   "metadata": {},
   "outputs": [],
   "source": [
    "#df17.show(5)"
   ]
  },
  {
   "cell_type": "code",
   "execution_count": 42,
   "id": "16607141-3aeb-4425-bad9-d24b85245836",
   "metadata": {},
   "outputs": [],
   "source": [
    "#df17.count()"
   ]
  },
  {
   "cell_type": "code",
   "execution_count": 43,
   "id": "da62d39b-c23c-4cb2-b81c-4919528ffb7c",
   "metadata": {},
   "outputs": [
    {
     "data": {
      "text/plain": [
       "1786"
      ]
     },
     "execution_count": 43,
     "metadata": {},
     "output_type": "execute_result"
    }
   ],
   "source": [
    "df17.count()"
   ]
  },
  {
   "cell_type": "markdown",
   "id": "2285dcf9-3b59-4afd-a469-6d2b3e3235c5",
   "metadata": {},
   "source": [
    "# Modeling"
   ]
  },
  {
   "cell_type": "markdown",
   "id": "e7746ec6-970f-4616-a845-6c2a450697f2",
   "metadata": {},
   "source": [
    "## Method: Replace all NULL values with mean in corresponding col"
   ]
  },
  {
   "cell_type": "code",
   "execution_count": 44,
   "id": "67e88893-3343-40d5-8fc6-bafe28b5fbbf",
   "metadata": {},
   "outputs": [],
   "source": [
    "ml_df = pd.DataFrame(columns = [\"Model\", \"RMSE\", \"R2\"])"
   ]
  },
  {
   "cell_type": "code",
   "execution_count": 45,
   "id": "22962be9-bd32-4e4c-84d9-d5bfcc9f1548",
   "metadata": {},
   "outputs": [],
   "source": [
    "# Split the data into training and testing sets\n",
    "# https://towardsdatascience.com/building-a-linear-regression-with-pyspark-and-mllib-d065c3ba246a\n",
    "(training_data, validation_data, test_data) = df17.randomSplit([0.6, 0.2, 0.2], seed = 123)"
   ]
  },
  {
   "cell_type": "code",
   "execution_count": 46,
   "id": "ef5e48ae-2dda-4cd0-b2d5-04915f679932",
   "metadata": {},
   "outputs": [],
   "source": [
    "mean_temperature = training_data.agg(mean(col(\"Temperature, water\"))).collect()[0][0]\n",
    "mean_conductance = training_data.agg(mean(col(\"Specific conductance\"))).collect()[0][0]\n",
    "mean_oxygen = training_data.agg(mean(col(\"Oxygen\"))).collect()[0][0]"
   ]
  },
  {
   "cell_type": "code",
   "execution_count": 47,
   "id": "6728d973-0c2b-4797-bbed-34a6e64d4a3e",
   "metadata": {},
   "outputs": [],
   "source": [
    "#print(mean_temperature)\n",
    "#print(mean_conductance)\n",
    "#print(mean_oxygen)"
   ]
  },
  {
   "cell_type": "code",
   "execution_count": 48,
   "id": "f51d2a5f-aeb6-4df8-b5c4-71e3795f3ab0",
   "metadata": {},
   "outputs": [],
   "source": [
    "training_data = training_data.na.fill({\"Temperature, water\": mean_temperature, \"Specific conductance\": mean_conductance, \"Oxygen\": mean_oxygen})"
   ]
  },
  {
   "cell_type": "code",
   "execution_count": 49,
   "id": "64aa340c-6a62-49f9-8d49-65a634410867",
   "metadata": {},
   "outputs": [],
   "source": [
    "validation_data = validation_data.na.fill({\"Temperature, water\": mean_temperature, \"Specific conductance\": mean_conductance, \"Oxygen\": mean_oxygen})"
   ]
  },
  {
   "cell_type": "code",
   "execution_count": 50,
   "id": "b344aca7-3fe3-489f-8227-a4fcf5e8cc18",
   "metadata": {},
   "outputs": [],
   "source": [
    "test_data = test_data.na.fill({\"Temperature, water\": mean_temperature, \"Specific conductance\": mean_conductance, \"Oxygen\": mean_oxygen})"
   ]
  },
  {
   "cell_type": "markdown",
   "id": "9573a53a-02c8-46dc-8d36-e07b5ac582e2",
   "metadata": {},
   "source": [
    "### Standardization"
   ]
  },
  {
   "cell_type": "code",
   "execution_count": 51,
   "id": "5625ad1a-db2b-4005-85f6-defcb7092540",
   "metadata": {
    "id": "5625ad1a-db2b-4005-85f6-defcb7092540"
   },
   "outputs": [],
   "source": [
    "input_columns = df17.columns[:-1]\n",
    "output_columns = df17.columns[-1]"
   ]
  },
  {
   "cell_type": "code",
   "execution_count": 52,
   "id": "58673c99-837d-4e57-a2ac-47fe55feed53",
   "metadata": {
    "id": "58673c99-837d-4e57-a2ac-47fe55feed53"
   },
   "outputs": [],
   "source": [
    "# Create a feature vector by combining all feature columns into a single 'features' column\n",
    "assembler = VectorAssembler(inputCols = input_columns, outputCol = 'features')\n",
    "training_data = assembler.transform(training_data)\n",
    "validation_data = assembler.transform(validation_data)\n",
    "test_data = assembler.transform(test_data)"
   ]
  },
  {
   "cell_type": "code",
   "execution_count": 53,
   "id": "fbe8647e-d592-422a-af25-82bf22927668",
   "metadata": {
    "id": "fbe8647e-d592-422a-af25-82bf22927668"
   },
   "outputs": [],
   "source": [
    "# Scale the feature vector using StandardScaler\n",
    "scaler = StandardScaler(inputCol = \"features\", outputCol = \"scaled_features\", withStd = True, withMean = True)\n",
    "scaler_model = scaler.fit(training_data)\n",
    "training_data = scaler_model.transform(training_data)\n",
    "validation_data = scaler_model.transform(validation_data)\n",
    "test_data = scaler_model.transform(test_data)"
   ]
  },
  {
   "cell_type": "markdown",
   "id": "378607e3-094e-48af-ae01-7030a1c0c157",
   "metadata": {
    "id": "378607e3-094e-48af-ae01-7030a1c0c157"
   },
   "source": [
    "### Ridge Linear Regression"
   ]
  },
  {
   "cell_type": "code",
   "execution_count": 54,
   "id": "23103821-cea1-4698-bd10-161fbb0a3710",
   "metadata": {
    "id": "23103821-cea1-4698-bd10-161fbb0a3710"
   },
   "outputs": [],
   "source": [
    "# Training\n",
    "model = LinearRegression(featuresCol = \"scaled_features\", labelCol = \"pH\", predictionCol = \"predicted_pH\", elasticNetParam = 0)\n",
    "lr_model = model.fit(training_data)"
   ]
  },
  {
   "cell_type": "code",
   "execution_count": 55,
   "id": "120bd44d-30a8-431c-bdf2-d918f7f61657",
   "metadata": {},
   "outputs": [
    {
     "name": "stdout",
     "output_type": "stream",
     "text": [
      "RMSE on validation data : 0.604752\n",
      "r2 on validation data : 0.099856\n"
     ]
    }
   ],
   "source": [
    "lr_predictions = lr_model.transform(validation_data)\n",
    "\n",
    "lr_evaluator_rmse = RegressionEvaluator(predictionCol = \"predicted_pH\", \\\n",
    "                 labelCol = \"pH\", metricName = \"rmse\")\n",
    "lr_evaluator = RegressionEvaluator(predictionCol = \"predicted_pH\", \\\n",
    "                 labelCol = \"pH\", metricName = \"r2\")\n",
    "\n",
    "ml_df.loc[len(ml_df)] = {\"Model\": \"Ridge Regression\", \"RMSE\": lr_evaluator_rmse.evaluate(lr_predictions), \"R2\": lr_evaluator.evaluate(lr_predictions)}\n",
    "\n",
    "print(\"RMSE on validation data : %g\" % lr_evaluator_rmse.evaluate(lr_predictions))\n",
    "print(\"r2 on validation data : %g\" % lr_evaluator.evaluate(lr_predictions))"
   ]
  },
  {
   "cell_type": "code",
   "execution_count": 56,
   "id": "5201c529-3a13-40e9-a6b0-e89c020363a9",
   "metadata": {},
   "outputs": [],
   "source": [
    "coefficients = lr_model.coefficients.toArray().tolist()\n",
    "intercept = [lr_model.intercept]\n",
    "data = {\"Temperature, water\": coefficients[0], \"Specific conductance\": coefficients[1], \"Oxygen\": coefficients[2], \"HydrologicEvent\": coefficients[3], \"Intercept\": intercept}\n",
    "\n",
    "coefficients_df = pd.DataFrame(data)\n",
    "\n",
    "#print(coefficients_df)"
   ]
  },
  {
   "cell_type": "code",
   "execution_count": 57,
   "id": "2c391e46-c955-494b-8926-10d9485eb0da",
   "metadata": {},
   "outputs": [],
   "source": [
    "output_path = \"/storage/home/tah5808/DS410 Project/Linear_Coefficients.csv\"\n",
    "coefficients_df.to_csv(output_path)"
   ]
  },
  {
   "cell_type": "markdown",
   "id": "9421aebe-5eda-4187-8175-8f3ee75fd318",
   "metadata": {},
   "source": [
    "### Decision Tree"
   ]
  },
  {
   "cell_type": "code",
   "execution_count": 58,
   "id": "edf11f05-1d62-4c5c-8233-2dc9ae9e09fb",
   "metadata": {
    "id": "edf11f05-1d62-4c5c-8233-2dc9ae9e09fb"
   },
   "outputs": [],
   "source": [
    "# Training\n",
    "dt = DecisionTreeRegressor(featuresCol = \"scaled_features\", labelCol = \"pH\", predictionCol = \"predicted_pH\")\n",
    "dt_model = dt.fit(training_data)"
   ]
  },
  {
   "cell_type": "code",
   "execution_count": 59,
   "id": "e69bd8fb-2bbf-478c-b378-004b7bec819e",
   "metadata": {},
   "outputs": [
    {
     "name": "stdout",
     "output_type": "stream",
     "text": [
      "RMSE on validation data : 0.514373\n",
      "r2 on validation data : 0.348802\n"
     ]
    }
   ],
   "source": [
    "# Testing\n",
    "dt_predictions = dt_model.transform(validation_data)\n",
    "\n",
    "dt_evaluator_rmse = RegressionEvaluator(predictionCol = \"predicted_pH\", \\\n",
    "                 labelCol = \"pH\", metricName = \"rmse\")\n",
    "dt_evaluator = RegressionEvaluator(predictionCol = \"predicted_pH\", \\\n",
    "                 labelCol = \"pH\", metricName = \"r2\")\n",
    "\n",
    "ml_df.loc[len(ml_df)] = {\"Model\": \"Decision Tree\", \"RMSE\": dt_evaluator_rmse.evaluate(dt_predictions), \"R2\": dt_evaluator.evaluate(dt_predictions)}\n",
    "\n",
    "print(\"RMSE on validation data : %g\" % dt_evaluator_rmse.evaluate(dt_predictions))\n",
    "print(\"r2 on validation data : %g\" % dt_evaluator.evaluate(dt_predictions))"
   ]
  },
  {
   "cell_type": "code",
   "execution_count": 60,
   "id": "3b338249-d9a4-417d-82fd-ef34e9f4adeb",
   "metadata": {},
   "outputs": [],
   "source": [
    "# predictions = lr_model.transform(test_data)\n",
    "# predictions.select(\"predicted_pH\",\"pH\",\"features\").show()"
   ]
  },
  {
   "cell_type": "markdown",
   "id": "b0af4dc8-d12a-4bce-830b-0c1e35b080ec",
   "metadata": {},
   "source": [
    "### Random Forest"
   ]
  },
  {
   "cell_type": "code",
   "execution_count": 61,
   "id": "9b052333-9b35-4c83-b1ca-b93cee3e0de2",
   "metadata": {},
   "outputs": [],
   "source": [
    "from pyspark.ml.regression import RandomForestRegressor\n",
    "rf = RandomForestRegressor(featuresCol = 'scaled_features', labelCol = 'pH', predictionCol = \"predicted_pH\")\n",
    "rf_model = rf.fit(training_data)"
   ]
  },
  {
   "cell_type": "code",
   "execution_count": 62,
   "id": "e446d8c6-38e8-4686-9875-b3cc971b09e7",
   "metadata": {},
   "outputs": [
    {
     "name": "stdout",
     "output_type": "stream",
     "text": [
      "RMSE on validation data : 0.482734\n",
      "r2 on validation data : 0.426449\n"
     ]
    }
   ],
   "source": [
    "rf_predictions = rf_model.transform(validation_data)\n",
    "\n",
    "rf_evaluator_rmse = RegressionEvaluator(predictionCol = \"predicted_pH\", \\\n",
    "                 labelCol = \"pH\", metricName = \"rmse\")\n",
    "rf_evaluator = RegressionEvaluator(predictionCol = \"predicted_pH\", \\\n",
    "                 labelCol = \"pH\", metricName = \"r2\")\n",
    "\n",
    "ml_df.loc[len(ml_df)] = {\"Model\": \"Random Forest\", \"RMSE\": rf_evaluator_rmse.evaluate(rf_predictions), \"R2\": rf_evaluator.evaluate(rf_predictions)}\n",
    "\n",
    "print(\"RMSE on validation data : %g\" % rf_evaluator_rmse.evaluate(rf_predictions))\n",
    "print(\"r2 on validation data : %g\" % rf_evaluator.evaluate(rf_predictions))"
   ]
  },
  {
   "cell_type": "markdown",
   "id": "0a99c252-b584-43dc-acc9-602f9a1eb920",
   "metadata": {},
   "source": [
    "### Gradient Boosted Tree Regression"
   ]
  },
  {
   "cell_type": "code",
   "execution_count": 63,
   "id": "43abdd85-5b1a-4dd4-b5c0-dcd1d57f3784",
   "metadata": {},
   "outputs": [],
   "source": [
    "from pyspark.ml.regression import GBTRegressor\n",
    "\n",
    "# Define GBTRegressor model\n",
    "gbt = GBTRegressor(featuresCol = 'scaled_features', labelCol = 'pH', predictionCol = \"predicted_pH\")\n",
    "\n",
    "# Fit the model\n",
    "gbt_model = gbt.fit(training_data)"
   ]
  },
  {
   "cell_type": "code",
   "execution_count": 64,
   "id": "aba1abc6-7237-4499-9034-ed91b894d294",
   "metadata": {},
   "outputs": [
    {
     "name": "stdout",
     "output_type": "stream",
     "text": [
      "RMSE on validation data : 0.507888\n",
      "r2 on validation data : 0.365118\n"
     ]
    }
   ],
   "source": [
    "gbt_predictions = gbt_model.transform(validation_data)\n",
    "\n",
    "gbt_evaluator_rmse = RegressionEvaluator(predictionCol = \"predicted_pH\", \\\n",
    "                 labelCol = \"pH\", metricName = \"rmse\")\n",
    "gbt_evaluator = RegressionEvaluator(predictionCol = \"predicted_pH\", \\\n",
    "                 labelCol = \"pH\", metricName = \"r2\")\n",
    "\n",
    "ml_df.loc[len(ml_df)] = {\"Model\": \"Gradient Boosted Tree Regression\", \"RMSE\": gbt_evaluator_rmse.evaluate(gbt_predictions), \"R2\": gbt_evaluator.evaluate(gbt_predictions)}\n",
    "\n",
    "print(\"RMSE on validation data : %g\" % gbt_evaluator_rmse.evaluate(gbt_predictions))\n",
    "print(\"r2 on validation data : %g\" % gbt_evaluator.evaluate(gbt_predictions))"
   ]
  },
  {
   "cell_type": "code",
   "execution_count": 65,
   "id": "c886b007-b5b8-4562-ad23-ef37dcae4dae",
   "metadata": {},
   "outputs": [],
   "source": [
    "output_path = \"/storage/home/tah5808/DS410 Project/ML_Models.csv\"\n",
    "ml_df.to_csv(output_path)"
   ]
  },
  {
   "cell_type": "markdown",
   "id": "0cd09dc4-7dfe-4e7a-ad1f-67e76eeeb3a3",
   "metadata": {},
   "source": [
    "### Hyperparameter Tuning"
   ]
  },
  {
   "cell_type": "code",
   "execution_count": 66,
   "id": "92483f96-41de-4f77-a55e-3067d16ffcf7",
   "metadata": {},
   "outputs": [
    {
     "name": "stdout",
     "output_type": "stream",
     "text": [
      "RMSE on validation data : 0.513031\n",
      "r2 on validation data : 0.352195\n"
     ]
    }
   ],
   "source": [
    "from pyspark.ml.tuning import ParamGridBuilder, CrossValidator\n",
    "dt = DecisionTreeRegressor(featuresCol = \"scaled_features\", labelCol = \"pH\", predictionCol = \"predicted_pH\")\n",
    "\n",
    "paramGrid = (ParamGridBuilder()\n",
    "             .addGrid(dt.maxDepth, [1, 2, 3, 4, 5, 6])  # max depth of the tree\n",
    "             .addGrid(dt.minInstancesPerNode, [1, 2, 3, 4, 5, 6, 7, 8])  # minimum number of instances each child must have\n",
    "             .build())\n",
    "\n",
    "evaluator = RegressionEvaluator(predictionCol = \"predicted_pH\", labelCol = \"pH\", metricName = \"rmse\")\n",
    "evaluator_r2 = RegressionEvaluator(predictionCol = \"predicted_pH\", labelCol = \"pH\", metricName = \"r2\")\n",
    "\n",
    "crossval = CrossValidator(estimator = dt,\n",
    "                          estimatorParamMaps = paramGrid,\n",
    "                          evaluator = evaluator,\n",
    "                          numFolds = 3)\n",
    "\n",
    "cvModel = crossval.fit(training_data)\n",
    "\n",
    "best_model = cvModel.bestModel\n",
    "\n",
    "best_model.save('./Best_DT')\n",
    "\n",
    "predictions = best_model.transform(validation_data)\n",
    "rmse = evaluator.evaluate(predictions)\n",
    "r2 = evaluator_r2.evaluate(predictions)\n",
    "\n",
    "print(\"RMSE on validation data : %g\" % rmse)\n",
    "print(\"r2 on validation data : %g\" % r2)"
   ]
  },
  {
   "cell_type": "code",
   "execution_count": 67,
   "id": "8bcec26b-e7f6-4f9f-b5be-183329031abe",
   "metadata": {},
   "outputs": [],
   "source": [
    "params = [{p.name: v for p, v in m.items()} for m in cvModel.getEstimatorParamMaps()]\n",
    "\n",
    "dt_hpt = pd.DataFrame.from_dict([\n",
    "    {cvModel.getEvaluator().getMetricName(): metric, **ps} \n",
    "    for ps, metric in zip(params, cvModel.avgMetrics)\n",
    "])"
   ]
  },
  {
   "cell_type": "code",
   "execution_count": 68,
   "id": "03235653-f462-46d9-abf4-67caad58a9bf",
   "metadata": {},
   "outputs": [],
   "source": [
    "output_path = \"/storage/home/tah5808/DS410 Project/DT_HPT_Local.csv\"\n",
    "dt_hpt.to_csv(output_path)"
   ]
  },
  {
   "cell_type": "code",
   "execution_count": 69,
   "id": "b603b332-af62-47fd-a92a-aeb0750c2e57",
   "metadata": {},
   "outputs": [],
   "source": [
    "#print(best_model.getMaxDepth())\n",
    "#print(best_model.getMinInstancesPerNode())"
   ]
  },
  {
   "cell_type": "code",
   "execution_count": 70,
   "id": "8f0cfa01-4263-492a-94f6-17eb800f77f3",
   "metadata": {},
   "outputs": [],
   "source": [
    "#for param, value in best_model.extractParamMap().items():\n",
    "#    print(f\"{param.name}: {value}\")"
   ]
  },
  {
   "cell_type": "markdown",
   "id": "de622aa2-415c-4847-ab7d-ac591a010e45",
   "metadata": {},
   "source": [
    "## Testing"
   ]
  },
  {
   "cell_type": "code",
   "execution_count": 71,
   "id": "76f5937c-f074-4750-aeb0-f970fa1a6d85",
   "metadata": {},
   "outputs": [],
   "source": [
    "final_df = pd.DataFrame(columns = [\"Model\", \"RMSE\", \"R2\"])"
   ]
  },
  {
   "cell_type": "code",
   "execution_count": 72,
   "id": "96085605-411c-483d-8fad-25a4c3cb1e97",
   "metadata": {},
   "outputs": [],
   "source": [
    "# Training\n",
    "dt = DecisionTreeRegressor(featuresCol = \"scaled_features\", labelCol = \"pH\", \\\n",
    "                           predictionCol = \"predicted_pH\", maxDepth = best_model.getMaxDepth(), \\\n",
    "                           minInstancesPerNode = best_model.getMinInstancesPerNode())\n",
    "dt_model = dt.fit(training_data)"
   ]
  },
  {
   "cell_type": "code",
   "execution_count": 73,
   "id": "7f3aa341-955e-4ad1-887f-5e0a6d8fc35f",
   "metadata": {},
   "outputs": [
    {
     "name": "stdout",
     "output_type": "stream",
     "text": [
      "RMSE on test data : 0.451215\n",
      "r2 on test data : 0.560836\n"
     ]
    }
   ],
   "source": [
    "# Testing\n",
    "dt_predictions = dt_model.transform(test_data)\n",
    "\n",
    "dt_evaluator_rmse = RegressionEvaluator(predictionCol = \"predicted_pH\", \\\n",
    "                 labelCol = \"pH\", metricName = \"rmse\")\n",
    "dt_evaluator = RegressionEvaluator(predictionCol = \"predicted_pH\", \\\n",
    "                 labelCol = \"pH\", metricName = \"r2\")\n",
    "\n",
    "final_df.loc[len(final_df)] = {\"Model\": \"Decision Tree\", \"RMSE\": dt_evaluator_rmse.evaluate(dt_predictions), \"R2\": dt_evaluator.evaluate(dt_predictions)}\n",
    "\n",
    "print(\"RMSE on test data : %g\" % dt_evaluator_rmse.evaluate(dt_predictions))\n",
    "print(\"r2 on test data : %g\" % dt_evaluator.evaluate(dt_predictions))"
   ]
  },
  {
   "cell_type": "code",
   "execution_count": 74,
   "id": "609484af-1432-4781-b33c-3eb0c56b0ed6",
   "metadata": {},
   "outputs": [],
   "source": [
    "output_path = \"/storage/home/tah5808/DS410 Project/Final_Model.csv\"\n",
    "final_df.to_csv(output_path)"
   ]
  }
 ],
 "metadata": {
  "colab": {
   "provenance": []
  },
  "kernelspec": {
   "display_name": "Python (ds410_f23)",
   "language": "python",
   "name": "ds410_sp24"
  },
  "language_info": {
   "codemirror_mode": {
    "name": "ipython",
    "version": 3
   },
   "file_extension": ".py",
   "mimetype": "text/x-python",
   "name": "python",
   "nbconvert_exporter": "python",
   "pygments_lexer": "ipython3",
   "version": "3.8.8"
  }
 },
 "nbformat": 4,
 "nbformat_minor": 5
}
